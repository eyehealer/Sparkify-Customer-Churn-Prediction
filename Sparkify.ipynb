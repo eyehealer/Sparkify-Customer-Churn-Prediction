{
 "cells": [
  {
   "cell_type": "markdown",
   "metadata": {},
   "source": [
    "# Sparkify Project Workspace\n",
    "This workspace contains a tiny subset (128MB) of the full dataset available (12GB). Feel free to use this workspace to build your project, or to explore a smaller subset with Spark before deploying your cluster on the cloud. Instructions for setting up your Spark cluster is included in the last lesson of the Extracurricular Spark Course content.\n",
    "\n",
    "You can follow the steps below to guide your data analysis and model building portion of this project."
   ]
  },
  {
   "cell_type": "code",
   "execution_count": 1,
   "metadata": {},
   "outputs": [],
   "source": [
    "# import libraries\n",
    "from pyspark.sql import SparkSession\n",
    "from pyspark.sql.functions import avg, col, concat, desc, explode, lit, min, max, split, udf,isnan, when, count, col\n",
    "from pyspark.sql.types import IntegerType\n",
    "import pyspark.sql.functions as func\n",
    "from pyspark.sql.functions import datediff,to_timestamp,to_date\n",
    "\n",
    "\n",
    "from pyspark.ml import Pipeline\n",
    "from pyspark.ml.classification import LogisticRegression\n",
    "from pyspark.ml.evaluation import MulticlassClassificationEvaluator\n",
    "from pyspark.ml.feature import CountVectorizer, IDF, Normalizer, PCA, RegexTokenizer, StandardScaler, StopWordsRemover, StringIndexer, VectorAssembler\n",
    "from pyspark.ml.regression import LinearRegression\n",
    "from pyspark.ml.tuning import CrossValidator, ParamGridBuilder\n",
    "\n",
    "import seaborn as sns\n",
    "import datetime\n",
    "import re\n",
    "\n"
   ]
  },
  {
   "cell_type": "code",
   "execution_count": 2,
   "metadata": {},
   "outputs": [],
   "source": [
    "# create a Spark session\n",
    "spark = SparkSession.builder \\\n",
    "    .master(\"local\") \\\n",
    "    .appName(\"Creating Features\") \\\n",
    "    .getOrCreate()"
   ]
  },
  {
   "cell_type": "markdown",
   "metadata": {},
   "source": [
    "# Load and Clean Dataset\n",
    "In this workspace, the mini-dataset file is `mini_sparkify_event_data.json`. Load and clean the dataset, checking for invalid or missing data - for example, records without userids or sessionids. "
   ]
  },
  {
   "cell_type": "code",
   "execution_count": 3,
   "metadata": {},
   "outputs": [
    {
     "data": {
      "text/plain": [
       "DataFrame[artist: string, auth: string, firstName: string, gender: string, itemInSession: bigint, lastName: string, length: double, level: string, location: string, method: string, page: string, registration: bigint, sessionId: bigint, song: string, status: bigint, ts: bigint, userAgent: string, userId: string]"
      ]
     },
     "execution_count": 3,
     "metadata": {},
     "output_type": "execute_result"
    }
   ],
   "source": [
    "df = spark.read.json('mini_sparkify_event_data.json')\n",
    "df.persist()"
   ]
  },
  {
   "cell_type": "code",
   "execution_count": 5,
   "metadata": {},
   "outputs": [
    {
     "data": {
      "text/plain": [
       "286500"
      ]
     },
     "execution_count": 5,
     "metadata": {},
     "output_type": "execute_result"
    }
   ],
   "source": [
    "# check the count of df\n",
    "df.count()"
   ]
  },
  {
   "cell_type": "code",
   "execution_count": 6,
   "metadata": {},
   "outputs": [
    {
     "data": {
      "text/plain": [
       "226"
      ]
     },
     "execution_count": 6,
     "metadata": {},
     "output_type": "execute_result"
    }
   ],
   "source": [
    "# check the number of users\n",
    "df.select(\"userId\").dropDuplicates().count()"
   ]
  },
  {
   "cell_type": "code",
   "execution_count": 7,
   "metadata": {},
   "outputs": [
    {
     "name": "stdout",
     "output_type": "stream",
     "text": [
      "+------+----+---------+------+-------------+--------+------+-----+--------+------+----+------------+---------+-----+------+---+---------+------+\n",
      "|artist|auth|firstName|gender|itemInSession|lastName|length|level|location|method|page|registration|sessionId| song|status| ts|userAgent|userId|\n",
      "+------+----+---------+------+-------------+--------+------+-----+--------+------+----+------------+---------+-----+------+---+---------+------+\n",
      "| 58392|   0|     8346|  8346|            0|    8346| 58392|    0|    8346|     0|   0|        8346|        0|58392|     0|  0|     8346|     0|\n",
      "+------+----+---------+------+-------------+--------+------+-----+--------+------+----+------------+---------+-----+------+---+---------+------+\n",
      "\n"
     ]
    }
   ],
   "source": [
    "# check number of NAs in each column\n",
    "df.select([count(when(isnan(c) | col(c).isNull(), c)).alias(c) for c in df.columns]).show()\n"
   ]
  },
  {
   "cell_type": "code",
   "execution_count": 8,
   "metadata": {},
   "outputs": [],
   "source": [
    "# drop those records have null in user related features(firstName,gender,lastName,registration,userAgent)\n",
    "df = df.filter(df.userId!=\"\")"
   ]
  },
  {
   "cell_type": "code",
   "execution_count": 9,
   "metadata": {},
   "outputs": [],
   "source": [
    "# change the original timestamp in the dataset to the common format\n",
    "get_time = udf(lambda x: datetime.datetime.fromtimestamp(x / 1000.0).strftime(\"%Y-%m-%d %H:%M:%S\"))\n",
    "df = df.withColumn(\"time\", get_time(df.ts)).withColumn('registration_time',get_time(df.registration))\n"
   ]
  },
  {
   "cell_type": "markdown",
   "metadata": {},
   "source": [
    "# Exploratory Data Analysis\n",
    "When you're working with the full dataset, perform EDA by loading a small subset of the data and doing basic manipulations within Spark. In this workspace, you are already provided a small subset of data you can explore.\n",
    "\n",
    "### Define Churn\n",
    "\n",
    "Once you've done some preliminary analysis, create a column `Churn` to use as the label for your model. I suggest using the `Cancellation Confirmation` events to define your churn, which happen for both paid and free users. As a bonus task, you can also look into the `Downgrade` events.\n",
    "\n",
    "### Explore Data\n",
    "Once you've defined churn, perform some exploratory data analysis to observe the behavior for users who stayed vs users who churned. You can start by exploring aggregates on these two groups of users, observing how much of a specific action they experienced per a certain time unit or number of songs played."
   ]
  },
  {
   "cell_type": "code",
   "execution_count": 10,
   "metadata": {},
   "outputs": [
    {
     "name": "stdout",
     "output_type": "stream",
     "text": [
      "+------------------+-----+\n",
      "|sum(whether_churn)|count|\n",
      "+------------------+-----+\n",
      "|                 0|  173|\n",
      "|                 1|   52|\n",
      "+------------------+-----+\n",
      "\n"
     ]
    }
   ],
   "source": [
    "# Define churn : for userids who review 'Cancellation Confirmation' page, we assume they are churned\n",
    "df=df.withColumn('whether_churn',when(col('page')=='Cancellation Confirmation', 1).otherwise(0))\n",
    "user=df.groupBy('userId').agg({'whether_churn': 'sum'})\n",
    "user.groupBy('sum(whether_churn)').count().show()"
   ]
  },
  {
   "cell_type": "markdown",
   "metadata": {},
   "source": [
    "So we know among these 225 userIds, 52 users churn and 173 users stay, the churn rate is about 23%."
   ]
  },
  {
   "cell_type": "code",
   "execution_count": 11,
   "metadata": {},
   "outputs": [
    {
     "data": {
      "text/plain": [
       "<matplotlib.axes._subplots.AxesSubplot at 0x7ff485f907f0>"
      ]
     },
     "execution_count": 11,
     "metadata": {},
     "output_type": "execute_result"
    },
    {
     "data": {
      "image/png": "[encoded data removed]",
      "text/plain": [
       "<matplotlib.figure.Figure at 0x7ff485f9ec88>"
      ]
     },
     "metadata": {
      "needs_background": "light"
     },
     "output_type": "display_data"
    }
   ],
   "source": [
    "# EDA : first I am curious between these two groups of users, is there a difference between how many sessions they visited?\n",
    "user_session=df.groupBy('userId').agg(func.sum('whether_churn'),func.countDistinct('sessionId'))\n",
    "\n",
    "user_session = user_session.toPandas()\n",
    "\n",
    "sns.boxplot(x='sum(whether_churn)', y='count(DISTINCT sessionId)',\n",
    "            data=user_session)"
   ]
  },
  {
   "cell_type": "markdown",
   "metadata": {},
   "source": [
    "we can observe that, those users who stay visit more sessions than those who churn."
   ]
  },
  {
   "cell_type": "code",
   "execution_count": 12,
   "metadata": {},
   "outputs": [
    {
     "data": {
      "text/plain": [
       "<matplotlib.axes._subplots.AxesSubplot at 0x7ff485e64b38>"
      ]
     },
     "execution_count": 12,
     "metadata": {},
     "output_type": "execute_result"
    },
    {
     "data": {
      "image/png": "[encoded data removed]",
      "text/plain": [
       "<matplotlib.figure.Figure at 0x7ff485e3eb38>"
      ]
     },
     "metadata": {
      "needs_background": "light"
     },
     "output_type": "display_data"
    }
   ],
   "source": [
    "# EDA : second I want to know between these two groups of users, whether the gender distribution be similar\n",
    "user3=df.groupBy('userId','gender').agg({'whether_churn': 'sum'}).toPandas()\n",
    "\n",
    "# plot a barchart using seaborn\n",
    "user3['count']=1\n",
    "sns.barplot(x=\"sum(whether_churn)\", y='count',hue=\"gender\", data=user3,estimator=sum)\n"
   ]
  },
  {
   "cell_type": "markdown",
   "metadata": {},
   "source": [
    "It looks like the female proportion  in stay group is higher than churn group."
   ]
  },
  {
   "cell_type": "code",
   "execution_count": 13,
   "metadata": {},
   "outputs": [
    {
     "data": {
      "text/plain": [
       "<matplotlib.axes._subplots.AxesSubplot at 0x7ff485de13c8>"
      ]
     },
     "execution_count": 13,
     "metadata": {},
     "output_type": "execute_result"
    },
    {
     "data": {
      "image/png": "[encoded data removed]",
      "text/plain": [
       "<matplotlib.figure.Figure at 0x7ff485de4f28>"
      ]
     },
     "metadata": {
      "needs_background": "light"
     },
     "output_type": "display_data"
    }
   ],
   "source": [
    "# EDA : third I want to see the device distribuiton of two groups of users.\n",
    "user_device = when(\n",
    "    col('userAgent').like('%Windows NT%') , 'windows_computer').when(col('userAgent') .like('%Macintosh%'), 'mac_computer'\n",
    ").when(col('userAgent') .like('%X11%'), 'Linux').when(col('userAgent') .like('%iPhone%'), 'iPhone').otherwise('iPad')\n",
    "\n",
    "df=df.withColumn('user_device',user_device)\n",
    "\n",
    "user4=df.groupBy('userId','user_device').agg({'whether_churn': 'sum'}).toPandas()\n",
    "\n",
    "# plot a barchart using seaborn\n",
    "user4['count']=1\n",
    "sns.barplot(x=\"user_device\", y='count',hue=\"sum(whether_churn)\", data=user4,estimator=sum)\n"
   ]
  },
  {
   "cell_type": "code",
   "execution_count": 14,
   "metadata": {},
   "outputs": [
    {
     "data": {
      "text/plain": [
       "<matplotlib.axes._subplots.AxesSubplot at 0x7ff485d5c7b8>"
      ]
     },
     "execution_count": 14,
     "metadata": {},
     "output_type": "execute_result"
    },
    {
     "data": {
      "image/png": "[encoded data removed]",
      "text/plain": [
       "<matplotlib.figure.Figure at 0x7ff485cf4320>"
      ]
     },
     "metadata": {
      "needs_background": "light"
     },
     "output_type": "display_data"
    }
   ],
   "source": [
    "# EDA : Last I want to see the between these two groups of users, whether the distribution of days between last day(in whole dataset)\n",
    "# and the last day the user visited similar\n",
    "\n",
    "user_time=df.groupBy('userId').agg(func.sum('whether_churn'),func.max('time'))\n",
    "user_time=user_time.select('userId','sum(whether_churn)',\n",
    "                          to_timestamp('max(time)', 'yyyy-MM-dd HH:mm:ss').alias('last_time'))\n",
    "\n",
    "user_time=user_time.withColumn('days_btw_last_today',datediff(to_date(lit(\"2018-12-03\")),'last_time')).toPandas()\n",
    "\n",
    "sns.boxplot(x='sum(whether_churn)', y='days_btw_last_today',\n",
    "            data=user_time)\n"
   ]
  },
  {
   "cell_type": "markdown",
   "metadata": {},
   "source": [
    "The distribution of days between last day(in whold dataset)and the last day the user visited similar looks very different between these two groups of users. It might a very useful feature."
   ]
  },
  {
   "cell_type": "markdown",
   "metadata": {},
   "source": [
    "# Feature Engineering\n",
    "Once you've familiarized yourself with the data, build out the features you find promising to train your model on. To work with the full dataset, you can follow the following steps.\n",
    "- Write a script to extract the necessary features from the smaller subset of data\n",
    "- Ensure that your script is scalable, using the best practices discussed in Lesson 3\n",
    "- Try your script on the full data set, debugging your script if necessary\n",
    "\n",
    "If you are working in the classroom workspace, you can just extract features based on the small subset of data contained here. Be sure to transfer over this work to the larger dataset when you work on your Spark cluster."
   ]
  },
  {
   "cell_type": "code",
   "execution_count": 15,
   "metadata": {},
   "outputs": [],
   "source": [
    "# create label for each user\n",
    "user=df.groupBy('userId').agg({'whether_churn': 'sum'})"
   ]
  },
  {
   "cell_type": "code",
   "execution_count": 16,
   "metadata": {},
   "outputs": [
    {
     "name": "stdout",
     "output_type": "stream",
     "text": [
      "+------+------------------+-------------------------+-------------------------+------------------+\n",
      "|userId|sum(whether_churn)|count(DISTINCT sessionId)|avg_session_duration_mins| avg_gap_time_days|\n",
      "+------+------------------+-------------------------+-------------------------+------------------+\n",
      "|100010|                 0|                        7|       154.48333333333332| 7.333333333333333|\n",
      "|200002|                 0|                        6|                    266.4|               9.0|\n",
      "|   125|                 1|                        1|       29.566666666666666|               0.0|\n",
      "|    51|                 1|                       10|        872.3566666666668|1.6666666666666667|\n",
      "|   124|                 0|                       29|        578.9942528735631| 2.142857142857143|\n",
      "|     7|                 0|                        7|        87.64047619047619|               8.5|\n",
      "|    54|                 1|                       37|       322.28963963963963|1.1666666666666667|\n",
      "|    15|                 0|                       15|        528.2833333333333| 3.857142857142857|\n",
      "|   155|                 0|                        6|        548.5722222222222|               5.0|\n",
      "|100014|                 1|                        6|        184.8138888888889|               8.2|\n",
      "|   132|                 0|                       16|        498.9510416666667|3.3333333333333335|\n",
      "|   154|                 0|                        3|       110.68333333333332|              12.5|\n",
      "|   101|                 1|                       10|                   817.58|1.6666666666666667|\n",
      "|    11|                 0|                       16|       161.37708333333333| 3.533333333333333|\n",
      "|300017|                 0|                       63|       233.32407407407408|0.9516129032258065|\n",
      "|   138|                 0|                       15|        564.2266666666667|3.9285714285714284|\n",
      "|    29|                 1|                       34|       365.75686274509803|1.3333333333333333|\n",
      "|    69|                 0|                        9|        526.6851851851852|             6.375|\n",
      "|100021|                 1|                        5|       215.22666666666663|             11.25|\n",
      "|    42|                 0|                       47|       329.56276595744674|1.3043478260869565|\n",
      "+------+------------------+-------------------------+-------------------------+------------------+\n",
      "only showing top 20 rows\n",
      "\n"
     ]
    }
   ],
   "source": [
    "# session related feature : number of visited session, avg time of each session, avg gap time of sessions of each user\n",
    "\n",
    "# calculate number of visited session of each user\n",
    "user_session=df.groupBy('userId').agg(func.countDistinct('sessionId'))\n",
    "\n",
    "\n",
    "\n",
    "# calculate avg time of each session and avg gap time of sessions of each user\n",
    "user_session_time=df.groupBy('userId','sessionId').agg(func.min('time'),func.max('time')).orderBy('userId','sessionId')\n",
    "user_session_time=user_session_time.select('userId','sessionId',\n",
    "                          to_timestamp('min(time)', 'yyyy-MM-dd HH:mm:ss').alias('first_time'),\n",
    "                          to_timestamp('max(time)', 'yyyy-MM-dd HH:mm:ss').alias('last_time'))\n",
    "\n",
    "# calculate visited time of each session\n",
    "user_session_time=user_session_time.withColumn('session_duration_mins',(col(\"last_time\").cast(\"long\") - col(\"first_time\").cast(\"long\"))/60)\n",
    "\n",
    "# calculate gap time of each pair of close sessions \n",
    "from pyspark.sql.window import Window\n",
    "user_session_time=user_session_time.withColumn('next_session_start_time',func.lead(user_session_time['first_time'])\n",
    "                                 .over(Window.partitionBy(\"userId\").orderBy('sessionId')))    \n",
    "\n",
    "user_session_time=user_session_time.withColumn('gap_time',datediff('next_session_start_time','first_time'))\n",
    "\n",
    "# aggregate these two features at user level\n",
    "user_session_time=user_session_time.groupBy('userId').agg(func.mean('session_duration_mins').alias('avg_session_duration_mins'),\n",
    "                                           func.mean('gap_time').alias('avg_gap_time_days')).na.fill(0)\n",
    "\n",
    "\n",
    "#merge with user dataframe\n",
    "\n",
    "user=user.join(user_session, ['userId'])\n",
    "user=user.join(user_session_time, ['userId'])\n",
    "user.show()"
   ]
  },
  {
   "cell_type": "code",
   "execution_count": 17,
   "metadata": {
    "scrolled": false
   },
   "outputs": [
    {
     "name": "stdout",
     "output_type": "stream",
     "text": [
      "+-------+-------------------+\n",
      "|summary|               time|\n",
      "+-------+-------------------+\n",
      "|  count|             278154|\n",
      "|   mean|               null|\n",
      "| stddev|               null|\n",
      "|    min|2018-10-01 00:01:57|\n",
      "|    max|2018-12-03 01:11:16|\n",
      "+-------+-------------------+\n",
      "\n"
     ]
    }
   ],
   "source": [
    "# check when is the most recent date in whole dataset\n",
    "df.select('time').describe().show()"
   ]
  },
  {
   "cell_type": "code",
   "execution_count": 18,
   "metadata": {},
   "outputs": [
    {
     "name": "stdout",
     "output_type": "stream",
     "text": [
      "+------+------------------+-------------------------+-------------------------+------------------+-------------------+-------------------+--------------------+\n",
      "|userId|sum(whether_churn)|count(DISTINCT sessionId)|avg_session_duration_mins| avg_gap_time_days|days_btw_first_last|days_btw_last_today|days_btw_first_today|\n",
      "+------+------------------+-------------------------+-------------------------+------------------+-------------------+-------------------+--------------------+\n",
      "|100010|                 0|                        7|       154.48333333333332| 7.333333333333333|                 44|                 12|                  56|\n",
      "|200002|                 0|                        6|                    266.4|               9.0|                 45|                 18|                  63|\n",
      "|   125|                 1|                        1|       29.566666666666666|               0.0|                  0|                 52|                  52|\n",
      "|    51|                 1|                       10|        872.3566666666668|1.6666666666666667|                 16|                 47|                  63|\n",
      "|   124|                 0|                       29|        578.9942528735631| 2.142857142857143|                 60|                  3|                  63|\n",
      "|     7|                 0|                        7|        87.64047619047619|               8.5|                 51|                 10|                  61|\n",
      "|    54|                 1|                       37|       322.28963963963963|1.1666666666666667|                 42|                 21|                  63|\n",
      "|    15|                 0|                       15|        528.2833333333333| 3.857142857142857|                 55|                  8|                  63|\n",
      "|   155|                 0|                        6|        548.5722222222222|               5.0|                 26|                  5|                  31|\n",
      "|100014|                 1|                        6|        184.8138888888889|               8.2|                 41|                 13|                  54|\n",
      "|   132|                 0|                       16|        498.9510416666667|3.3333333333333335|                 50|                 12|                  62|\n",
      "|   154|                 0|                        3|       110.68333333333332|              12.5|                 25|                  6|                  31|\n",
      "|   101|                 1|                       10|                   817.58|1.6666666666666667|                 15|                 48|                  63|\n",
      "|    11|                 0|                       16|       161.37708333333333| 3.533333333333333|                 53|                  6|                  59|\n",
      "|300017|                 0|                       63|       233.32407407407408|0.9516129032258065|                 59|                  4|                  63|\n",
      "|   138|                 0|                       15|        564.2266666666667|3.9285714285714284|                 56|                  3|                  59|\n",
      "|    29|                 1|                       34|       365.75686274509803|1.3333333333333333|                 44|                 19|                  63|\n",
      "|    69|                 0|                        9|        526.6851851851852|             6.375|                 51|                 10|                  61|\n",
      "|100021|                 1|                        5|       215.22666666666663|             11.25|                 45|                  8|                  53|\n",
      "|    42|                 0|                       47|       329.56276595744674|1.3043478260869565|                 60|                  3|                  63|\n",
      "+------+------------------+-------------------------+-------------------------+------------------+-------------------+-------------------+--------------------+\n",
      "only showing top 20 rows\n",
      "\n"
     ]
    }
   ],
   "source": [
    "#time_related feature: days between first visit and last visit, days between most resent date and first visit date,\n",
    "# days between most resent date and last visit date\n",
    "\n",
    "user_time=df.groupBy('userId','registration_time').agg(func.min('time'),func.max('time'))\n",
    "user_time=user_time.select('userId',to_timestamp('registration_time', 'yyyy-MM-dd HH:mm:ss').alias('registration_time'),\n",
    "                          to_timestamp('min(time)', 'yyyy-MM-dd HH:mm:ss').alias('first_time'),\n",
    "                          to_timestamp('max(time)', 'yyyy-MM-dd HH:mm:ss').alias('last_time'))\n",
    "\n",
    "user_time=user_time.withColumn('days_btw_first_last',datediff('last_time','first_time')).withColumn(\n",
    "    'days_btw_last_today',datediff(to_date(lit(\"2018-12-03\")),'last_time')).withColumn(\n",
    "        'days_btw_first_today',datediff(to_date(lit(\"2018-12-03\")),'first_time'))\n",
    "           \n",
    "\n",
    "user_time=user_time.select('userId','days_btw_first_last','days_btw_last_today','days_btw_first_today')\n",
    "\n",
    "user=user.join(user_time, ['userId'])\n",
    "user.show()"
   ]
  },
  {
   "cell_type": "code",
   "execution_count": 19,
   "metadata": {},
   "outputs": [
    {
     "name": "stdout",
     "output_type": "stream",
     "text": [
      "+------+------------------+-------------------------+-------------------------+------------------+-------------------+-------------------+--------------------+--------------------+--------------------+--------------------+--------------------+--------------------+--------------------+--------------------+--------------------+------------------+--------------------+--------------------+--------------------+--------------------+--------------------+--------------------+--------------------+--------------------+-----+\n",
      "|userId|sum(whether_churn)|count(DISTINCT sessionId)|avg_session_duration_mins| avg_gap_time_days|days_btw_first_last|days_btw_last_today|days_btw_first_today|               About|          Add Friend|     Add to Playlist|           Downgrade|               Error|                Help|                Home|              Logout|          NextSong|         Roll Advert|       Save Settings|            Settings|    Submit Downgrade|      Submit Upgrade|         Thumbs Down|           Thumbs Up|             Upgrade|count|\n",
      "+------+------------------+-------------------------+-------------------------+------------------+-------------------+-------------------+--------------------+--------------------+--------------------+--------------------+--------------------+--------------------+--------------------+--------------------+--------------------+------------------+--------------------+--------------------+--------------------+--------------------+--------------------+--------------------+--------------------+--------------------+-----+\n",
      "|100010|                 0|                        7|       154.48333333333332| 7.333333333333333|                 44|                 12|                  56|0.002624671916010...|0.010498687664041995| 0.01837270341207349|                 0.0|                 0.0|0.005249343832020997|0.028871391076115485|0.013123359580052493|0.7217847769028871| 0.13648293963254593|                 0.0|                 0.0|                 0.0|                 0.0|0.013123359580052493| 0.04461942257217848|0.005249343832020997|  381|\n",
      "|200002|                 0|                        6|                    266.4|               9.0|                 45|                 18|                  63|0.006329113924050633|0.008438818565400843|0.016877637130801686|0.010548523206751054|                 0.0|0.004219409282700422| 0.04219409282700422|0.010548523206751054|0.8164556962025317|0.014767932489451477|                 0.0|0.006329113924050633|                 0.0|0.002109704641350211|0.012658227848101266| 0.04430379746835443|0.004219409282700422|  474|\n",
      "|   125|                 1|                        1|       29.566666666666666|               0.0|                  0|                 52|                  52|                 0.0|                 0.0|                 0.0|                 0.0|                 0.0|                 0.0|                 0.0|                 0.0|0.8888888888888888|  0.1111111111111111|                 0.0|                 0.0|                 0.0|                 0.0|                 0.0|                 0.0|                 0.0|    9|\n",
      "|   124|                 0|                       29|        578.9942528735631| 2.142857142857143|                 60|                  3|                  63|0.001450777202072539| 0.01533678756476684|  0.0244559585492228| 0.00849740932642487|0.001243523316062176|0.004766839378238342|0.036476683937823835|  0.0122279792746114|0.8453886010362694|8.290155440414508E-4|0.001243523316062176|0.004145077720207254|                 0.0|                 0.0| 0.00849740932642487| 0.03544041450777202|                 0.0| 4825|\n",
      "|    51|                 1|                       10|        872.3566666666668|1.6666666666666667|                 16|                 47|                  63|8.123476848090983E-4|0.011372867587327376|0.021121039805036556| 0.00934199837530463|4.061738424045491...| 0.00487408610885459|0.030463038180341188| 0.00974817221770918|0.8574329813160032|                 0.0|4.061738424045491...| 0.00487408610885459|                 0.0|                 0.0|0.008529650690495532| 0.04061738424045491|                 0.0| 2462|\n",
      "|     7|                 0|                        7|        87.64047619047619|               8.5|                 51|                 10|                  61|                 0.0|0.004975124378109453|0.024875621890547265|                 0.0|0.004975124378109453|0.004975124378109453| 0.04975124378109453|0.014925373134328358| 0.746268656716418| 0.07960199004975124|0.004975124378109453|0.014925373134328358|                 0.0|                 0.0|0.004975124378109453| 0.03482587064676617|0.009950248756218905|  201|\n",
      "|    15|                 0|                       15|        528.2833333333333| 3.857142857142857|                 55|                  8|                  63| 8.77963125548727E-4|0.013608428446005268|0.025899912203687446|0.012291483757682178| 8.77963125548727E-4|0.003511852502194908|0.040825285338015806|0.011852502194907815|0.8402107111501317|4.389815627743635E-4| 8.77963125548727E-4|0.007023705004389816|                 0.0|                 0.0|0.006145741878841089| 0.03555750658472344|                 0.0| 2278|\n",
      "|    54|                 1|                       37|       322.28963963963963|1.1666666666666667|                 42|                 21|                  63|0.001455604075691412| 0.00960698689956332| 0.02096069868995633|0.011353711790393014|2.911208151382824E-4|0.004949053857350801| 0.03755458515283843|0.010480349344978166|0.8270742358078602|0.013682678311499273|8.733624454148472E-4|0.004949053857350801|2.911208151382824E-4|2.911208151382824E-4|0.008442503639010189| 0.04745269286754003|2.911208151382824E-4| 3435|\n",
      "|   155|                 0|                        6|        548.5722222222222|               5.0|                 26|                  5|                  31|0.001996007984031936|0.010978043912175649|0.023952095808383235|0.011976047904191617|0.002994011976047...|0.008982035928143712|0.029940119760479042|0.013972055888223553|0.8183632734530938|0.007984031936127744|                 0.0| 0.00499001996007984|                 0.0| 9.98003992015968E-4|0.002994011976047...| 0.05788423153692615|0.001996007984031936| 1002|\n",
      "|100014|                 1|                        6|        184.8138888888889|               8.2|                 41|                 13|                  54|                 0.0| 0.01948051948051948|0.022727272727272728| 0.00974025974025974|                 0.0|0.006493506493506494|0.022727272727272728| 0.00974025974025974|0.8344155844155844|0.006493506493506494|                 0.0|0.003246753246753247|                 0.0|                 0.0| 0.00974025974025974| 0.05519480519480519|                 0.0|  308|\n",
      "|   132|                 0|                       16|        498.9510416666667|3.3333333333333335|                 50|                 12|                  62|0.001736111111111111|0.017795138888888888|0.016493055555555556|0.008246527777777778|0.001302083333333...|0.006944444444444444| 0.03602430555555555|0.014756944444444444|0.8368055555555556|8.680555555555555E-4|0.001736111111111111|0.007378472222222222|                 0.0|4.340277777777777...|0.007378472222222222|0.041666666666666664|4.340277777777777...| 2304|\n",
      "|   154|                 0|                        3|       110.68333333333332|              12.5|                 25|                  6|                  31|                 0.0|0.025423728813559324| 0.00847457627118644|                 0.0|                 0.0| 0.00847457627118644| 0.05084745762711865| 0.01694915254237288| 0.711864406779661|  0.0847457627118644|                 0.0|                 0.0|                 0.0|                 0.0|                 0.0| 0.09322033898305085|                 0.0|  118|\n",
      "|   101|                 1|                       10|                   817.58|1.6666666666666667|                 15|                 48|                  63|9.315323707498836E-4| 0.01350721937587331| 0.02841173730787145|0.010246856078248719|0.001397298556124...|0.005589194224499...|0.034466697717745694|0.011178388448998603|0.8369818351187703|0.003726129482999...|9.315323707498836E-4|0.004191895668374476|                 0.0|4.657661853749418E-4|0.007452258965999069|0.040055891942244994|4.657661853749418E-4| 2147|\n",
      "|    11|                 0|                       16|       161.37708333333333| 3.533333333333333|                 53|                  6|                  59|0.008254716981132075|0.007075471698113208| 0.02358490566037736| 0.00589622641509434|0.001179245283018...|0.003537735849056604| 0.04363207547169811| 0.01650943396226415|0.7629716981132075|0.045990566037735846|0.002358490566037...|0.007075471698113208|0.001179245283018...|0.002358490566037...| 0.01061320754716981| 0.04716981132075472| 0.01061320754716981|  848|\n",
      "|   138|                 0|                       15|        564.2266666666667|3.9285714285714284|                 56|                  3|                  59|0.003240178209801...| 0.01660591332523289| 0.02713649250708789| 0.00850546780072904|4.050222762251924E-4|0.005265289590927501| 0.02875658161198866|0.007290400972053463|0.8383961117861483| 0.00688537869582827|0.001620089104900...| 0.00688537869582827|                 0.0|4.050222762251924E-4|0.009720534629404616| 0.03847711624139328|4.050222762251924E-4| 2469|\n",
      "|300017|                 0|                       63|       233.32407407407408|0.9516129032258065|                 59|                  4|                  63|6.775067750677507E-4|0.014227642276422764|0.025519421860885277|0.005645889792231256|0.001129177958446251|0.006097560975609756|0.034101174345076785|0.009259259259259259|0.8202348690153568|0.002484191508581...|6.775067750677507E-4|0.005194218608852755|                 0.0|                 0.0|0.006323396567299007| 0.06842818428184282|                 0.0| 4428|\n",
      "|100021|                 1|                        5|       215.22666666666663|             11.25|                 45|                  8|                  53|0.003154574132492...|0.022082018927444796|0.022082018927444796|                 0.0|0.006309148264984227|                 0.0|  0.0473186119873817|0.022082018927444796|0.7255520504731862|  0.0946372239747634|                 0.0|                 0.0|                 0.0|                 0.0|0.015772870662460567| 0.03470031545741325|0.006309148264984227|  317|\n",
      "|    29|                 1|                       34|       365.75686274509803|1.3333333333333333|                 44|                 19|                  63|5.554012774229381E-4|0.013051930019439044|0.024715356845320745|0.004998611496806442|                 0.0|0.007775617883921133| 0.03360177728408775|0.011385726187170231|0.8408775340183282|0.006109414051652319|0.001110802554845...|0.005276312135517912|                 0.0|2.777006387114690...|0.006109414051652319| 0.04276589836156623|0.001388503193557...| 3601|\n",
      "|    69|                 0|                        9|        526.6851851851852|             6.375|                 51|                 10|                  61|0.002235469448584...| 0.00894187779433681| 0.02459016393442623|0.006706408345752...|0.002980625931445...|0.005216095380029807| 0.03651266766020864|0.007451564828614009|0.8383010432190761|0.002235469448584...|7.451564828614009E-4|0.002235469448584...|                 0.0|7.451564828614009E-4|0.006706408345752...| 0.05365126676602087|7.451564828614009E-4| 1342|\n",
      "|   112|                 0|                       10|        84.45166666666667| 6.333333333333333|                 57|                  3|                  60|0.003424657534246575|0.023972602739726026|0.023972602739726026|                 0.0|                 0.0|0.003424657534246575|  0.0547945205479452|0.010273972602739725|0.7363013698630136| 0.07191780821917808|0.010273972602739725|  0.0136986301369863|                 0.0|                 0.0|0.010273972602739725|0.030821917808219176| 0.00684931506849315|  292|\n",
      "+------+------------------+-------------------------+-------------------------+------------------+-------------------+-------------------+--------------------+--------------------+--------------------+--------------------+--------------------+--------------------+--------------------+--------------------+--------------------+------------------+--------------------+--------------------+--------------------+--------------------+--------------------+--------------------+--------------------+--------------------+-----+\n",
      "only showing top 20 rows\n",
      "\n"
     ]
    }
   ],
   "source": [
    "# page view related feature: calculate number of visited pages, proportion of different types of pages\n",
    "user_page_view=df.groupBy('userId').pivot('page').count()\n",
    "user_page_view=user_page_view.na.fill(0).drop('Cancellation Confirmation','Cancel')\n",
    "\n",
    "user_page_totalview=df.filter(\"page != 'Cancellation Confirmation' and page != 'Cancel'\" ).groupBy('userId').count()\n",
    "\n",
    "# change actual number to percentage \n",
    "user_page_view=user_page_view.join(user_page_totalview,['userId'])\n",
    "\n",
    "columns=user_page_view.columns\n",
    "columns=[column for column in columns if column not in ('userId', 'count')]\n",
    "\n",
    "for colName in columns:\n",
    "    user_page_view = user_page_view.withColumn(colName, col(colName)/col('count'))\n",
    "\n",
    "\n",
    "# merge feature with user dataframe\n",
    "user=user.join(user_page_view, ['userId'])\n",
    "user.show()"
   ]
  },
  {
   "cell_type": "code",
   "execution_count": 20,
   "metadata": {},
   "outputs": [
    {
     "name": "stdout",
     "output_type": "stream",
     "text": [
      "+------+------------------+-------------------------+-------------------------+------------------+-------------------+-------------------+--------------------+--------------------+--------------------+--------------------+--------------------+--------------------+--------------------+--------------------+--------------------+------------------+--------------------+--------------------+--------------------+--------------------+--------------------+--------------------+--------------------+--------------------+-----+----------+-------------------+---------------------+\n",
      "|userId|sum(whether_churn)|count(DISTINCT sessionId)|avg_session_duration_mins| avg_gap_time_days|days_btw_first_last|days_btw_last_today|days_btw_first_today|               About|          Add Friend|     Add to Playlist|           Downgrade|               Error|                Help|                Home|              Logout|          NextSong|         Roll Advert|       Save Settings|            Settings|    Submit Downgrade|      Submit Upgrade|         Thumbs Down|           Thumbs Up|             Upgrade|count|count_song|count_distinct_song|count_distinct_artist|\n",
      "+------+------------------+-------------------------+-------------------------+------------------+-------------------+-------------------+--------------------+--------------------+--------------------+--------------------+--------------------+--------------------+--------------------+--------------------+--------------------+------------------+--------------------+--------------------+--------------------+--------------------+--------------------+--------------------+--------------------+--------------------+-----+----------+-------------------+---------------------+\n",
      "|100010|                 0|                        7|       154.48333333333332| 7.333333333333333|                 44|                 12|                  56|0.002624671916010...|0.010498687664041995| 0.01837270341207349|                 0.0|                 0.0|0.005249343832020997|0.028871391076115485|0.013123359580052493|0.7217847769028871| 0.13648293963254593|                 0.0|                 0.0|                 0.0|                 0.0|0.013123359580052493| 0.04461942257217848|0.005249343832020997|  381|       275|                270|                  252|\n",
      "|200002|                 0|                        6|                    266.4|               9.0|                 45|                 18|                  63|0.006329113924050633|0.008438818565400843|0.016877637130801686|0.010548523206751054|                 0.0|0.004219409282700422| 0.04219409282700422|0.010548523206751054|0.8164556962025317|0.014767932489451477|                 0.0|0.006329113924050633|                 0.0|0.002109704641350211|0.012658227848101266| 0.04430379746835443|0.004219409282700422|  474|       387|                378|                  339|\n",
      "|   125|                 1|                        1|       29.566666666666666|               0.0|                  0|                 52|                  52|                 0.0|                 0.0|                 0.0|                 0.0|                 0.0|                 0.0|                 0.0|                 0.0|0.8888888888888888|  0.1111111111111111|                 0.0|                 0.0|                 0.0|                 0.0|                 0.0|                 0.0|                 0.0|    9|         8|                  8|                    8|\n",
      "|   124|                 0|                       29|        578.9942528735631| 2.142857142857143|                 60|                  3|                  63|0.001450777202072539| 0.01533678756476684|  0.0244559585492228| 0.00849740932642487|0.001243523316062176|0.004766839378238342|0.036476683937823835|  0.0122279792746114|0.8453886010362694|8.290155440414508E-4|0.001243523316062176|0.004145077720207254|                 0.0|                 0.0| 0.00849740932642487| 0.03544041450777202|                 0.0| 4825|      4079|               3392|                 2232|\n",
      "|    51|                 1|                       10|        872.3566666666668|1.6666666666666667|                 16|                 47|                  63|8.123476848090983E-4|0.011372867587327376|0.021121039805036556| 0.00934199837530463|4.061738424045491...| 0.00487408610885459|0.030463038180341188| 0.00974817221770918|0.8574329813160032|                 0.0|4.061738424045491...| 0.00487408610885459|                 0.0|                 0.0|0.008529650690495532| 0.04061738424045491|                 0.0| 2462|      2111|               1868|                 1385|\n",
      "|     7|                 0|                        7|        87.64047619047619|               8.5|                 51|                 10|                  61|                 0.0|0.004975124378109453|0.024875621890547265|                 0.0|0.004975124378109453|0.004975124378109453| 0.04975124378109453|0.014925373134328358| 0.746268656716418| 0.07960199004975124|0.004975124378109453|0.014925373134328358|                 0.0|                 0.0|0.004975124378109453| 0.03482587064676617|0.009950248756218905|  201|       150|                148|                  142|\n",
      "|    15|                 0|                       15|        528.2833333333333| 3.857142857142857|                 55|                  8|                  63| 8.77963125548727E-4|0.013608428446005268|0.025899912203687446|0.012291483757682178| 8.77963125548727E-4|0.003511852502194908|0.040825285338015806|0.011852502194907815|0.8402107111501317|4.389815627743635E-4| 8.77963125548727E-4|0.007023705004389816|                 0.0|                 0.0|0.006145741878841089| 0.03555750658472344|                 0.0| 2278|      1914|               1719|                 1302|\n",
      "|    54|                 1|                       37|       322.28963963963963|1.1666666666666667|                 42|                 21|                  63|0.001455604075691412| 0.00960698689956332| 0.02096069868995633|0.011353711790393014|2.911208151382824E-4|0.004949053857350801| 0.03755458515283843|0.010480349344978166|0.8270742358078602|0.013682678311499273|8.733624454148472E-4|0.004949053857350801|2.911208151382824E-4|2.911208151382824E-4|0.008442503639010189| 0.04745269286754003|2.911208151382824E-4| 3435|      2841|               2445|                 1744|\n",
      "|   155|                 0|                        6|        548.5722222222222|               5.0|                 26|                  5|                  31|0.001996007984031936|0.010978043912175649|0.023952095808383235|0.011976047904191617|0.002994011976047...|0.008982035928143712|0.029940119760479042|0.013972055888223553|0.8183632734530938|0.007984031936127744|                 0.0| 0.00499001996007984|                 0.0| 9.98003992015968E-4|0.002994011976047...| 0.05788423153692615|0.001996007984031936| 1002|       820|                762|                  643|\n",
      "|100014|                 1|                        6|        184.8138888888889|               8.2|                 41|                 13|                  54|                 0.0| 0.01948051948051948|0.022727272727272728| 0.00974025974025974|                 0.0|0.006493506493506494|0.022727272727272728| 0.00974025974025974|0.8344155844155844|0.006493506493506494|                 0.0|0.003246753246753247|                 0.0|                 0.0| 0.00974025974025974| 0.05519480519480519|                 0.0|  308|       257|                248|                  233|\n",
      "|   132|                 0|                       16|        498.9510416666667|3.3333333333333335|                 50|                 12|                  62|0.001736111111111111|0.017795138888888888|0.016493055555555556|0.008246527777777778|0.001302083333333...|0.006944444444444444| 0.03602430555555555|0.014756944444444444|0.8368055555555556|8.680555555555555E-4|0.001736111111111111|0.007378472222222222|                 0.0|4.340277777777777...|0.007378472222222222|0.041666666666666664|4.340277777777777...| 2304|      1928|               1734|                 1299|\n",
      "|   154|                 0|                        3|       110.68333333333332|              12.5|                 25|                  6|                  31|                 0.0|0.025423728813559324| 0.00847457627118644|                 0.0|                 0.0| 0.00847457627118644| 0.05084745762711865| 0.01694915254237288| 0.711864406779661|  0.0847457627118644|                 0.0|                 0.0|                 0.0|                 0.0|                 0.0| 0.09322033898305085|                 0.0|  118|        84|                 83|                   78|\n",
      "|   101|                 1|                       10|                   817.58|1.6666666666666667|                 15|                 48|                  63|9.315323707498836E-4| 0.01350721937587331| 0.02841173730787145|0.010246856078248719|0.001397298556124...|0.005589194224499...|0.034466697717745694|0.011178388448998603|0.8369818351187703|0.003726129482999...|9.315323707498836E-4|0.004191895668374476|                 0.0|4.657661853749418E-4|0.007452258965999069|0.040055891942244994|4.657661853749418E-4| 2147|      1797|               1620|                 1241|\n",
      "|    11|                 0|                       16|       161.37708333333333| 3.533333333333333|                 53|                  6|                  59|0.008254716981132075|0.007075471698113208| 0.02358490566037736| 0.00589622641509434|0.001179245283018...|0.003537735849056604| 0.04363207547169811| 0.01650943396226415|0.7629716981132075|0.045990566037735846|0.002358490566037...|0.007075471698113208|0.001179245283018...|0.002358490566037...| 0.01061320754716981| 0.04716981132075472| 0.01061320754716981|  848|       647|                616|                  534|\n",
      "|   138|                 0|                       15|        564.2266666666667|3.9285714285714284|                 56|                  3|                  59|0.003240178209801...| 0.01660591332523289| 0.02713649250708789| 0.00850546780072904|4.050222762251924E-4|0.005265289590927501| 0.02875658161198866|0.007290400972053463|0.8383961117861483| 0.00688537869582827|0.001620089104900...| 0.00688537869582827|                 0.0|4.050222762251924E-4|0.009720534629404616| 0.03847711624139328|4.050222762251924E-4| 2469|      2070|               1803|                 1332|\n",
      "|300017|                 0|                       63|       233.32407407407408|0.9516129032258065|                 59|                  4|                  63|6.775067750677507E-4|0.014227642276422764|0.025519421860885277|0.005645889792231256|0.001129177958446251|0.006097560975609756|0.034101174345076785|0.009259259259259259|0.8202348690153568|0.002484191508581...|6.775067750677507E-4|0.005194218608852755|                 0.0|                 0.0|0.006323396567299007| 0.06842818428184282|                 0.0| 4428|      3632|               3047|                 2070|\n",
      "|100021|                 1|                        5|       215.22666666666663|             11.25|                 45|                  8|                  53|0.003154574132492...|0.022082018927444796|0.022082018927444796|                 0.0|0.006309148264984227|                 0.0|  0.0473186119873817|0.022082018927444796|0.7255520504731862|  0.0946372239747634|                 0.0|                 0.0|                 0.0|                 0.0|0.015772870662460567| 0.03470031545741325|0.006309148264984227|  317|       230|                227|                  207|\n",
      "|    29|                 1|                       34|       365.75686274509803|1.3333333333333333|                 44|                 19|                  63|5.554012774229381E-4|0.013051930019439044|0.024715356845320745|0.004998611496806442|                 0.0|0.007775617883921133| 0.03360177728408775|0.011385726187170231|0.8408775340183282|0.006109414051652319|0.001110802554845...|0.005276312135517912|                 0.0|2.777006387114690...|0.006109414051652319| 0.04276589836156623|0.001388503193557...| 3601|      3028|               2598|                 1804|\n",
      "|    69|                 0|                        9|        526.6851851851852|             6.375|                 51|                 10|                  61|0.002235469448584...| 0.00894187779433681| 0.02459016393442623|0.006706408345752...|0.002980625931445...|0.005216095380029807| 0.03651266766020864|0.007451564828614009|0.8383010432190761|0.002235469448584...|7.451564828614009E-4|0.002235469448584...|                 0.0|7.451564828614009E-4|0.006706408345752...| 0.05365126676602087|7.451564828614009E-4| 1342|      1125|               1043|                  865|\n",
      "|   112|                 0|                       10|        84.45166666666667| 6.333333333333333|                 57|                  3|                  60|0.003424657534246575|0.023972602739726026|0.023972602739726026|                 0.0|                 0.0|0.003424657534246575|  0.0547945205479452|0.010273972602739725|0.7363013698630136| 0.07191780821917808|0.010273972602739725|  0.0136986301369863|                 0.0|                 0.0|0.010273972602739725|0.030821917808219176| 0.00684931506849315|  292|       215|                211|                  195|\n",
      "+------+------------------+-------------------------+-------------------------+------------------+-------------------+-------------------+--------------------+--------------------+--------------------+--------------------+--------------------+--------------------+--------------------+--------------------+--------------------+------------------+--------------------+--------------------+--------------------+--------------------+--------------------+--------------------+--------------------+--------------------+-----+----------+-------------------+---------------------+\n",
      "only showing top 20 rows\n",
      "\n"
     ]
    }
   ],
   "source": [
    "# music related features\n",
    "music=df.where(df['page'] == 'NextSong').select('artist','song',\"userId\")\n",
    "music=music.withColumn('song2',concat(col('artist'),lit('-'),col('song')))\n",
    "\n",
    "user_music_choice=music.groupby('userId').agg(func.count('song2').alias('count_song'),\n",
    "                                              func.countDistinct('song2').alias('count_distinct_song'),\n",
    "                                              func.countDistinct('artist').alias('count_distinct_artist'))\n",
    "\n",
    "\n",
    "# merge feature with user dataframe\n",
    "user=user.join(user_music_choice, ['userId'])\n",
    "user.show()\n"
   ]
  },
  {
   "cell_type": "code",
   "execution_count": 21,
   "metadata": {},
   "outputs": [
    {
     "name": "stdout",
     "output_type": "stream",
     "text": [
      "+------+------------------+-------------------------+-------------------------+------------------+-------------------+-------------------+--------------------+--------------------+--------------------+--------------------+--------------------+--------------------+--------------------+--------------------+--------------------+------------------+--------------------+--------------------+--------------------+--------------------+--------------------+--------------------+--------------------+--------------------+-----+----------+-------------------+---------------------+--------------------+-------------------+\n",
      "|userId|sum(whether_churn)|count(DISTINCT sessionId)|avg_session_duration_mins| avg_gap_time_days|days_btw_first_last|days_btw_last_today|days_btw_first_today|               About|          Add Friend|     Add to Playlist|           Downgrade|               Error|                Help|                Home|              Logout|          NextSong|         Roll Advert|       Save Settings|            Settings|    Submit Downgrade|      Submit Upgrade|         Thumbs Down|           Thumbs Up|             Upgrade|count|count_song|count_distinct_song|count_distinct_artist|        free_portion|       paid_portion|\n",
      "+------+------------------+-------------------------+-------------------------+------------------+-------------------+-------------------+--------------------+--------------------+--------------------+--------------------+--------------------+--------------------+--------------------+--------------------+--------------------+------------------+--------------------+--------------------+--------------------+--------------------+--------------------+--------------------+--------------------+--------------------+-----+----------+-------------------+---------------------+--------------------+-------------------+\n",
      "|100010|                 0|                        7|       154.48333333333332| 7.333333333333333|                 44|                 12|                  56|0.002624671916010...|0.010498687664041995| 0.01837270341207349|                 0.0|                 0.0|0.005249343832020997|0.028871391076115485|0.013123359580052493|0.7217847769028871| 0.13648293963254593|                 0.0|                 0.0|                 0.0|                 0.0|0.013123359580052493| 0.04461942257217848|0.005249343832020997|  381|       275|                270|                  252|                 1.0|                0.0|\n",
      "|200002|                 0|                        6|                    266.4|               9.0|                 45|                 18|                  63|0.006329113924050633|0.008438818565400843|0.016877637130801686|0.010548523206751054|                 0.0|0.004219409282700422| 0.04219409282700422|0.010548523206751054|0.8164556962025317|0.014767932489451477|                 0.0|0.006329113924050633|                 0.0|0.002109704641350211|0.012658227848101266| 0.04430379746835443|0.004219409282700422|  474|       387|                378|                  339| 0.25316455696202533| 0.7468354430379747|\n",
      "|   125|                 1|                        1|       29.566666666666666|               0.0|                  0|                 52|                  52|                 0.0|                 0.0|                 0.0|                 0.0|                 0.0|                 0.0|                 0.0|                 0.0|0.8888888888888888|  0.1111111111111111|                 0.0|                 0.0|                 0.0|                 0.0|                 0.0|                 0.0|                 0.0|    9|         8|                  8|                    8|                 1.0|                0.0|\n",
      "|   124|                 0|                       29|        578.9942528735631| 2.142857142857143|                 60|                  3|                  63|0.001450777202072539| 0.01533678756476684|  0.0244559585492228| 0.00849740932642487|0.001243523316062176|0.004766839378238342|0.036476683937823835|  0.0122279792746114|0.8453886010362694|8.290155440414508E-4|0.001243523316062176|0.004145077720207254|                 0.0|                 0.0| 0.00849740932642487| 0.03544041450777202|                 0.0| 4825|      4079|               3392|                 2232|                 0.0|                1.0|\n",
      "|    51|                 1|                       10|        872.3566666666668|1.6666666666666667|                 16|                 47|                  63|8.123476848090983E-4|0.011372867587327376|0.021121039805036556| 0.00934199837530463|4.061738424045491...| 0.00487408610885459|0.030463038180341188| 0.00974817221770918|0.8574329813160032|                 0.0|4.061738424045491...| 0.00487408610885459|                 0.0|                 0.0|0.008529650690495532| 0.04061738424045491|                 0.0| 2462|      2111|               1868|                 1385|                 0.0|                1.0|\n",
      "|     7|                 0|                        7|        87.64047619047619|               8.5|                 51|                 10|                  61|                 0.0|0.004975124378109453|0.024875621890547265|                 0.0|0.004975124378109453|0.004975124378109453| 0.04975124378109453|0.014925373134328358| 0.746268656716418| 0.07960199004975124|0.004975124378109453|0.014925373134328358|                 0.0|                 0.0|0.004975124378109453| 0.03482587064676617|0.009950248756218905|  201|       150|                148|                  142|                 1.0|                0.0|\n",
      "|    15|                 0|                       15|        528.2833333333333| 3.857142857142857|                 55|                  8|                  63| 8.77963125548727E-4|0.013608428446005268|0.025899912203687446|0.012291483757682178| 8.77963125548727E-4|0.003511852502194908|0.040825285338015806|0.011852502194907815|0.8402107111501317|4.389815627743635E-4| 8.77963125548727E-4|0.007023705004389816|                 0.0|                 0.0|0.006145741878841089| 0.03555750658472344|                 0.0| 2278|      1914|               1719|                 1302|                 0.0|                1.0|\n",
      "|    54|                 1|                       37|       322.28963963963963|1.1666666666666667|                 42|                 21|                  63|0.001455604075691412| 0.00960698689956332| 0.02096069868995633|0.011353711790393014|2.911208151382824E-4|0.004949053857350801| 0.03755458515283843|0.010480349344978166|0.8270742358078602|0.013682678311499273|8.733624454148472E-4|0.004949053857350801|2.911208151382824E-4|2.911208151382824E-4|0.008442503639010189| 0.04745269286754003|2.911208151382824E-4| 3435|      2841|               2445|                 1744| 0.16816991562409078| 0.8318300843759092|\n",
      "|   155|                 0|                        6|        548.5722222222222|               5.0|                 26|                  5|                  31|0.001996007984031936|0.010978043912175649|0.023952095808383235|0.011976047904191617|0.002994011976047...|0.008982035928143712|0.029940119760479042|0.013972055888223553|0.8183632734530938|0.007984031936127744|                 0.0| 0.00499001996007984|                 0.0| 9.98003992015968E-4|0.002994011976047...| 0.05788423153692615|0.001996007984031936| 1002|       820|                762|                  643|  0.1437125748502994| 0.8562874251497006|\n",
      "|100014|                 1|                        6|        184.8138888888889|               8.2|                 41|                 13|                  54|                 0.0| 0.01948051948051948|0.022727272727272728| 0.00974025974025974|                 0.0|0.006493506493506494|0.022727272727272728| 0.00974025974025974|0.8344155844155844|0.006493506493506494|                 0.0|0.003246753246753247|                 0.0|                 0.0| 0.00974025974025974| 0.05519480519480519|                 0.0|  308|       257|                248|                  233|                 0.0|                1.0|\n",
      "|   132|                 0|                       16|        498.9510416666667|3.3333333333333335|                 50|                 12|                  62|0.001736111111111111|0.017795138888888888|0.016493055555555556|0.008246527777777778|0.001302083333333...|0.006944444444444444| 0.03602430555555555|0.014756944444444444|0.8368055555555556|8.680555555555555E-4|0.001736111111111111|0.007378472222222222|                 0.0|4.340277777777777...|0.007378472222222222|0.041666666666666664|4.340277777777777...| 2304|      1928|               1734|                 1299|0.014756944444444444| 0.9852430555555556|\n",
      "|   154|                 0|                        3|       110.68333333333332|              12.5|                 25|                  6|                  31|                 0.0|0.025423728813559324| 0.00847457627118644|                 0.0|                 0.0| 0.00847457627118644| 0.05084745762711865| 0.01694915254237288| 0.711864406779661|  0.0847457627118644|                 0.0|                 0.0|                 0.0|                 0.0|                 0.0| 0.09322033898305085|                 0.0|  118|        84|                 83|                   78|                 1.0|                0.0|\n",
      "|   101|                 1|                       10|                   817.58|1.6666666666666667|                 15|                 48|                  63|9.315323707498836E-4| 0.01350721937587331| 0.02841173730787145|0.010246856078248719|0.001397298556124...|0.005589194224499...|0.034466697717745694|0.011178388448998603|0.8369818351187703|0.003726129482999...|9.315323707498836E-4|0.004191895668374476|                 0.0|4.657661853749418E-4|0.007452258965999069|0.040055891942244994|4.657661853749418E-4| 2147|      1797|               1620|                 1241| 0.03536528617961843| 0.9646347138203816|\n",
      "|    11|                 0|                       16|       161.37708333333333| 3.533333333333333|                 53|                  6|                  59|0.008254716981132075|0.007075471698113208| 0.02358490566037736| 0.00589622641509434|0.001179245283018...|0.003537735849056604| 0.04363207547169811| 0.01650943396226415|0.7629716981132075|0.045990566037735846|0.002358490566037...|0.007075471698113208|0.001179245283018...|0.002358490566037...| 0.01061320754716981| 0.04716981132075472| 0.01061320754716981|  848|       647|                616|                  534|  0.7299528301886793|0.27004716981132076|\n",
      "|   138|                 0|                       15|        564.2266666666667|3.9285714285714284|                 56|                  3|                  59|0.003240178209801...| 0.01660591332523289| 0.02713649250708789| 0.00850546780072904|4.050222762251924E-4|0.005265289590927501| 0.02875658161198866|0.007290400972053463|0.8383961117861483| 0.00688537869582827|0.001620089104900...| 0.00688537869582827|                 0.0|4.050222762251924E-4|0.009720534629404616| 0.03847711624139328|4.050222762251924E-4| 2469|      2070|               1803|                 1332|  0.1061158363710004| 0.8938841636289996|\n",
      "|300017|                 0|                       63|       233.32407407407408|0.9516129032258065|                 59|                  4|                  63|6.775067750677507E-4|0.014227642276422764|0.025519421860885277|0.005645889792231256|0.001129177958446251|0.006097560975609756|0.034101174345076785|0.009259259259259259|0.8202348690153568|0.002484191508581...|6.775067750677507E-4|0.005194218608852755|                 0.0|                 0.0|0.006323396567299007| 0.06842818428184282|                 0.0| 4428|      3632|               3047|                 2070|                 0.0|                1.0|\n",
      "|100021|                 1|                        5|       215.22666666666663|             11.25|                 45|                  8|                  53|0.003154574132492...|0.022082018927444796|0.022082018927444796|                 0.0|0.006309148264984227|                 0.0|  0.0473186119873817|0.022082018927444796|0.7255520504731862|  0.0946372239747634|                 0.0|                 0.0|                 0.0|                 0.0|0.015772870662460567| 0.03470031545741325|0.006309148264984227|  317|       230|                227|                  207|                 1.0|                0.0|\n",
      "|    29|                 1|                       34|       365.75686274509803|1.3333333333333333|                 44|                 19|                  63|5.554012774229381E-4|0.013051930019439044|0.024715356845320745|0.004998611496806442|                 0.0|0.007775617883921133| 0.03360177728408775|0.011385726187170231|0.8408775340183282|0.006109414051652319|0.001110802554845...|0.005276312135517912|                 0.0|2.777006387114690...|0.006109414051652319| 0.04276589836156623|0.001388503193557...| 3601|      3028|               2598|                 1804| 0.10824313072439634| 0.8917568692756037|\n",
      "|    69|                 0|                        9|        526.6851851851852|             6.375|                 51|                 10|                  61|0.002235469448584...| 0.00894187779433681| 0.02459016393442623|0.006706408345752...|0.002980625931445...|0.005216095380029807| 0.03651266766020864|0.007451564828614009|0.8383010432190761|0.002235469448584...|7.451564828614009E-4|0.002235469448584...|                 0.0|7.451564828614009E-4|0.006706408345752...| 0.05365126676602087|7.451564828614009E-4| 1342|      1125|               1043|                  865|0.029061102831594635| 0.9709388971684053|\n",
      "|   112|                 0|                       10|        84.45166666666667| 6.333333333333333|                 57|                  3|                  60|0.003424657534246575|0.023972602739726026|0.023972602739726026|                 0.0|                 0.0|0.003424657534246575|  0.0547945205479452|0.010273972602739725|0.7363013698630136| 0.07191780821917808|0.010273972602739725|  0.0136986301369863|                 0.0|                 0.0|0.010273972602739725|0.030821917808219176| 0.00684931506849315|  292|       215|                211|                  195|                 1.0|                0.0|\n",
      "+------+------------------+-------------------------+-------------------------+------------------+-------------------+-------------------+--------------------+--------------------+--------------------+--------------------+--------------------+--------------------+--------------------+--------------------+--------------------+------------------+--------------------+--------------------+--------------------+--------------------+--------------------+--------------------+--------------------+--------------------+-----+----------+-------------------+---------------------+--------------------+-------------------+\n",
      "only showing top 20 rows\n",
      "\n"
     ]
    }
   ],
   "source": [
    "# free/paid proportion of visited\n",
    "user_level=df.groupBy('userId').pivot('level').count().fillna(0)\n",
    "user_level=user_level.withColumn('free_portion',col('free')/(col('free')+col('paid'))).withColumn('paid_portion',col('paid')/(col('free')+col('paid')))\n",
    "user_level=user_level.select('userId','free_portion','paid_portion')\n",
    "\n",
    "user=user.join(user_level, ['userId'])\n",
    "user.show()"
   ]
  },
  {
   "cell_type": "code",
   "execution_count": 22,
   "metadata": {},
   "outputs": [
    {
     "name": "stdout",
     "output_type": "stream",
     "text": [
      "+------+------------------+-------------------------+-------------------------+------------------+-------------------+-------------------+--------------------+--------------------+--------------------+--------------------+--------------------+--------------------+--------------------+--------------------+--------------------+------------------+--------------------+--------------------+--------------------+--------------------+--------------------+--------------------+--------------------+--------------------+-----+----------+-------------------+---------------------+--------------------+-------------------+---+---+\n",
      "|userId|sum(whether_churn)|count(DISTINCT sessionId)|avg_session_duration_mins| avg_gap_time_days|days_btw_first_last|days_btw_last_today|days_btw_first_today|               About|          Add Friend|     Add to Playlist|           Downgrade|               Error|                Help|                Home|              Logout|          NextSong|         Roll Advert|       Save Settings|            Settings|    Submit Downgrade|      Submit Upgrade|         Thumbs Down|           Thumbs Up|             Upgrade|count|count_song|count_distinct_song|count_distinct_artist|        free_portion|       paid_portion|  F|  M|\n",
      "+------+------------------+-------------------------+-------------------------+------------------+-------------------+-------------------+--------------------+--------------------+--------------------+--------------------+--------------------+--------------------+--------------------+--------------------+--------------------+------------------+--------------------+--------------------+--------------------+--------------------+--------------------+--------------------+--------------------+--------------------+-----+----------+-------------------+---------------------+--------------------+-------------------+---+---+\n",
      "|100010|                 0|                        7|       154.48333333333332| 7.333333333333333|                 44|                 12|                  56|0.002624671916010...|0.010498687664041995| 0.01837270341207349|                 0.0|                 0.0|0.005249343832020997|0.028871391076115485|0.013123359580052493|0.7217847769028871| 0.13648293963254593|                 0.0|                 0.0|                 0.0|                 0.0|0.013123359580052493| 0.04461942257217848|0.005249343832020997|  381|       275|                270|                  252|                 1.0|                0.0|  1|  0|\n",
      "|200002|                 0|                        6|                    266.4|               9.0|                 45|                 18|                  63|0.006329113924050633|0.008438818565400843|0.016877637130801686|0.010548523206751054|                 0.0|0.004219409282700422| 0.04219409282700422|0.010548523206751054|0.8164556962025317|0.014767932489451477|                 0.0|0.006329113924050633|                 0.0|0.002109704641350211|0.012658227848101266| 0.04430379746835443|0.004219409282700422|  474|       387|                378|                  339| 0.25316455696202533| 0.7468354430379747|  0|  1|\n",
      "|   125|                 1|                        1|       29.566666666666666|               0.0|                  0|                 52|                  52|                 0.0|                 0.0|                 0.0|                 0.0|                 0.0|                 0.0|                 0.0|                 0.0|0.8888888888888888|  0.1111111111111111|                 0.0|                 0.0|                 0.0|                 0.0|                 0.0|                 0.0|                 0.0|    9|         8|                  8|                    8|                 1.0|                0.0|  0|  1|\n",
      "|   124|                 0|                       29|        578.9942528735631| 2.142857142857143|                 60|                  3|                  63|0.001450777202072539| 0.01533678756476684|  0.0244559585492228| 0.00849740932642487|0.001243523316062176|0.004766839378238342|0.036476683937823835|  0.0122279792746114|0.8453886010362694|8.290155440414508E-4|0.001243523316062176|0.004145077720207254|                 0.0|                 0.0| 0.00849740932642487| 0.03544041450777202|                 0.0| 4825|      4079|               3392|                 2232|                 0.0|                1.0|  1|  0|\n",
      "|    51|                 1|                       10|        872.3566666666668|1.6666666666666667|                 16|                 47|                  63|8.123476848090983E-4|0.011372867587327376|0.021121039805036556| 0.00934199837530463|4.061738424045491...| 0.00487408610885459|0.030463038180341188| 0.00974817221770918|0.8574329813160032|                 0.0|4.061738424045491...| 0.00487408610885459|                 0.0|                 0.0|0.008529650690495532| 0.04061738424045491|                 0.0| 2462|      2111|               1868|                 1385|                 0.0|                1.0|  0|  1|\n",
      "|     7|                 0|                        7|        87.64047619047619|               8.5|                 51|                 10|                  61|                 0.0|0.004975124378109453|0.024875621890547265|                 0.0|0.004975124378109453|0.004975124378109453| 0.04975124378109453|0.014925373134328358| 0.746268656716418| 0.07960199004975124|0.004975124378109453|0.014925373134328358|                 0.0|                 0.0|0.004975124378109453| 0.03482587064676617|0.009950248756218905|  201|       150|                148|                  142|                 1.0|                0.0|  0|  1|\n",
      "|    15|                 0|                       15|        528.2833333333333| 3.857142857142857|                 55|                  8|                  63| 8.77963125548727E-4|0.013608428446005268|0.025899912203687446|0.012291483757682178| 8.77963125548727E-4|0.003511852502194908|0.040825285338015806|0.011852502194907815|0.8402107111501317|4.389815627743635E-4| 8.77963125548727E-4|0.007023705004389816|                 0.0|                 0.0|0.006145741878841089| 0.03555750658472344|                 0.0| 2278|      1914|               1719|                 1302|                 0.0|                1.0|  0|  1|\n",
      "|    54|                 1|                       37|       322.28963963963963|1.1666666666666667|                 42|                 21|                  63|0.001455604075691412| 0.00960698689956332| 0.02096069868995633|0.011353711790393014|2.911208151382824E-4|0.004949053857350801| 0.03755458515283843|0.010480349344978166|0.8270742358078602|0.013682678311499273|8.733624454148472E-4|0.004949053857350801|2.911208151382824E-4|2.911208151382824E-4|0.008442503639010189| 0.04745269286754003|2.911208151382824E-4| 3435|      2841|               2445|                 1744| 0.16816991562409078| 0.8318300843759092|  1|  0|\n",
      "|   155|                 0|                        6|        548.5722222222222|               5.0|                 26|                  5|                  31|0.001996007984031936|0.010978043912175649|0.023952095808383235|0.011976047904191617|0.002994011976047...|0.008982035928143712|0.029940119760479042|0.013972055888223553|0.8183632734530938|0.007984031936127744|                 0.0| 0.00499001996007984|                 0.0| 9.98003992015968E-4|0.002994011976047...| 0.05788423153692615|0.001996007984031936| 1002|       820|                762|                  643|  0.1437125748502994| 0.8562874251497006|  1|  0|\n",
      "|100014|                 1|                        6|        184.8138888888889|               8.2|                 41|                 13|                  54|                 0.0| 0.01948051948051948|0.022727272727272728| 0.00974025974025974|                 0.0|0.006493506493506494|0.022727272727272728| 0.00974025974025974|0.8344155844155844|0.006493506493506494|                 0.0|0.003246753246753247|                 0.0|                 0.0| 0.00974025974025974| 0.05519480519480519|                 0.0|  308|       257|                248|                  233|                 0.0|                1.0|  0|  1|\n",
      "|   132|                 0|                       16|        498.9510416666667|3.3333333333333335|                 50|                 12|                  62|0.001736111111111111|0.017795138888888888|0.016493055555555556|0.008246527777777778|0.001302083333333...|0.006944444444444444| 0.03602430555555555|0.014756944444444444|0.8368055555555556|8.680555555555555E-4|0.001736111111111111|0.007378472222222222|                 0.0|4.340277777777777...|0.007378472222222222|0.041666666666666664|4.340277777777777...| 2304|      1928|               1734|                 1299|0.014756944444444444| 0.9852430555555556|  1|  0|\n",
      "|   154|                 0|                        3|       110.68333333333332|              12.5|                 25|                  6|                  31|                 0.0|0.025423728813559324| 0.00847457627118644|                 0.0|                 0.0| 0.00847457627118644| 0.05084745762711865| 0.01694915254237288| 0.711864406779661|  0.0847457627118644|                 0.0|                 0.0|                 0.0|                 0.0|                 0.0| 0.09322033898305085|                 0.0|  118|        84|                 83|                   78|                 1.0|                0.0|  1|  0|\n",
      "|   101|                 1|                       10|                   817.58|1.6666666666666667|                 15|                 48|                  63|9.315323707498836E-4| 0.01350721937587331| 0.02841173730787145|0.010246856078248719|0.001397298556124...|0.005589194224499...|0.034466697717745694|0.011178388448998603|0.8369818351187703|0.003726129482999...|9.315323707498836E-4|0.004191895668374476|                 0.0|4.657661853749418E-4|0.007452258965999069|0.040055891942244994|4.657661853749418E-4| 2147|      1797|               1620|                 1241| 0.03536528617961843| 0.9646347138203816|  0|  1|\n",
      "|    11|                 0|                       16|       161.37708333333333| 3.533333333333333|                 53|                  6|                  59|0.008254716981132075|0.007075471698113208| 0.02358490566037736| 0.00589622641509434|0.001179245283018...|0.003537735849056604| 0.04363207547169811| 0.01650943396226415|0.7629716981132075|0.045990566037735846|0.002358490566037...|0.007075471698113208|0.001179245283018...|0.002358490566037...| 0.01061320754716981| 0.04716981132075472| 0.01061320754716981|  848|       647|                616|                  534|  0.7299528301886793|0.27004716981132076|  1|  0|\n",
      "|   138|                 0|                       15|        564.2266666666667|3.9285714285714284|                 56|                  3|                  59|0.003240178209801...| 0.01660591332523289| 0.02713649250708789| 0.00850546780072904|4.050222762251924E-4|0.005265289590927501| 0.02875658161198866|0.007290400972053463|0.8383961117861483| 0.00688537869582827|0.001620089104900...| 0.00688537869582827|                 0.0|4.050222762251924E-4|0.009720534629404616| 0.03847711624139328|4.050222762251924E-4| 2469|      2070|               1803|                 1332|  0.1061158363710004| 0.8938841636289996|  0|  1|\n",
      "|300017|                 0|                       63|       233.32407407407408|0.9516129032258065|                 59|                  4|                  63|6.775067750677507E-4|0.014227642276422764|0.025519421860885277|0.005645889792231256|0.001129177958446251|0.006097560975609756|0.034101174345076785|0.009259259259259259|0.8202348690153568|0.002484191508581...|6.775067750677507E-4|0.005194218608852755|                 0.0|                 0.0|0.006323396567299007| 0.06842818428184282|                 0.0| 4428|      3632|               3047|                 2070|                 0.0|                1.0|  1|  0|\n",
      "|100021|                 1|                        5|       215.22666666666663|             11.25|                 45|                  8|                  53|0.003154574132492...|0.022082018927444796|0.022082018927444796|                 0.0|0.006309148264984227|                 0.0|  0.0473186119873817|0.022082018927444796|0.7255520504731862|  0.0946372239747634|                 0.0|                 0.0|                 0.0|                 0.0|0.015772870662460567| 0.03470031545741325|0.006309148264984227|  317|       230|                227|                  207|                 1.0|                0.0|  0|  1|\n",
      "|    29|                 1|                       34|       365.75686274509803|1.3333333333333333|                 44|                 19|                  63|5.554012774229381E-4|0.013051930019439044|0.024715356845320745|0.004998611496806442|                 0.0|0.007775617883921133| 0.03360177728408775|0.011385726187170231|0.8408775340183282|0.006109414051652319|0.001110802554845...|0.005276312135517912|                 0.0|2.777006387114690...|0.006109414051652319| 0.04276589836156623|0.001388503193557...| 3601|      3028|               2598|                 1804| 0.10824313072439634| 0.8917568692756037|  0|  1|\n",
      "|    69|                 0|                        9|        526.6851851851852|             6.375|                 51|                 10|                  61|0.002235469448584...| 0.00894187779433681| 0.02459016393442623|0.006706408345752...|0.002980625931445...|0.005216095380029807| 0.03651266766020864|0.007451564828614009|0.8383010432190761|0.002235469448584...|7.451564828614009E-4|0.002235469448584...|                 0.0|7.451564828614009E-4|0.006706408345752...| 0.05365126676602087|7.451564828614009E-4| 1342|      1125|               1043|                  865|0.029061102831594635| 0.9709388971684053|  1|  0|\n",
      "|   112|                 0|                       10|        84.45166666666667| 6.333333333333333|                 57|                  3|                  60|0.003424657534246575|0.023972602739726026|0.023972602739726026|                 0.0|                 0.0|0.003424657534246575|  0.0547945205479452|0.010273972602739725|0.7363013698630136| 0.07191780821917808|0.010273972602739725|  0.0136986301369863|                 0.0|                 0.0|0.010273972602739725|0.030821917808219176| 0.00684931506849315|  292|       215|                211|                  195|                 1.0|                0.0|  0|  1|\n",
      "+------+------------------+-------------------------+-------------------------+------------------+-------------------+-------------------+--------------------+--------------------+--------------------+--------------------+--------------------+--------------------+--------------------+--------------------+--------------------+------------------+--------------------+--------------------+--------------------+--------------------+--------------------+--------------------+--------------------+--------------------+-----+----------+-------------------+---------------------+--------------------+-------------------+---+---+\n",
      "only showing top 20 rows\n",
      "\n"
     ]
    }
   ],
   "source": [
    "# gender feature\n",
    "user_gender=df.select(\"userId\",'gender').dropDuplicates().groupBy('userId').pivot('gender').count()\n",
    "user_gender=user_gender.na.fill(0)\n",
    "\n",
    "user=user.join(user_gender, ['userId'])\n",
    "user.show()"
   ]
  },
  {
   "cell_type": "code",
   "execution_count": 23,
   "metadata": {},
   "outputs": [
    {
     "name": "stdout",
     "output_type": "stream",
     "text": [
      "+------+------------------+-------------------------+-------------------------+------------------+-------------------+-------------------+--------------------+--------------------+--------------------+--------------------+--------------------+--------------------+--------------------+--------------------+--------------------+------------------+--------------------+--------------------+--------------------+--------------------+--------------------+--------------------+--------------------+--------------------+-----+----------+-------------------+---------------------+--------------------+-------------------+---+---+-----+----+------+------------+----------------+\n",
      "|userId|sum(whether_churn)|count(DISTINCT sessionId)|avg_session_duration_mins| avg_gap_time_days|days_btw_first_last|days_btw_last_today|days_btw_first_today|               About|          Add Friend|     Add to Playlist|           Downgrade|               Error|                Help|                Home|              Logout|          NextSong|         Roll Advert|       Save Settings|            Settings|    Submit Downgrade|      Submit Upgrade|         Thumbs Down|           Thumbs Up|             Upgrade|count|count_song|count_distinct_song|count_distinct_artist|        free_portion|       paid_portion|  F|  M|Linux|iPad|iPhone|mac_computer|windows_computer|\n",
      "+------+------------------+-------------------------+-------------------------+------------------+-------------------+-------------------+--------------------+--------------------+--------------------+--------------------+--------------------+--------------------+--------------------+--------------------+--------------------+------------------+--------------------+--------------------+--------------------+--------------------+--------------------+--------------------+--------------------+--------------------+-----+----------+-------------------+---------------------+--------------------+-------------------+---+---+-----+----+------+------------+----------------+\n",
      "|100010|                 0|                        7|       154.48333333333332| 7.333333333333333|                 44|                 12|                  56|0.002624671916010...|0.010498687664041995| 0.01837270341207349|                 0.0|                 0.0|0.005249343832020997|0.028871391076115485|0.013123359580052493|0.7217847769028871| 0.13648293963254593|                 0.0|                 0.0|                 0.0|                 0.0|0.013123359580052493| 0.04461942257217848|0.005249343832020997|  381|       275|                270|                  252|                 1.0|                0.0|  1|  0|    0|   0|     1|           0|               0|\n",
      "|200002|                 0|                        6|                    266.4|               9.0|                 45|                 18|                  63|0.006329113924050633|0.008438818565400843|0.016877637130801686|0.010548523206751054|                 0.0|0.004219409282700422| 0.04219409282700422|0.010548523206751054|0.8164556962025317|0.014767932489451477|                 0.0|0.006329113924050633|                 0.0|0.002109704641350211|0.012658227848101266| 0.04430379746835443|0.004219409282700422|  474|       387|                378|                  339| 0.25316455696202533| 0.7468354430379747|  0|  1|    0|   0|     1|           0|               0|\n",
      "|   125|                 1|                        1|       29.566666666666666|               0.0|                  0|                 52|                  52|                 0.0|                 0.0|                 0.0|                 0.0|                 0.0|                 0.0|                 0.0|                 0.0|0.8888888888888888|  0.1111111111111111|                 0.0|                 0.0|                 0.0|                 0.0|                 0.0|                 0.0|                 0.0|    9|         8|                  8|                    8|                 1.0|                0.0|  0|  1|    0|   0|     0|           1|               0|\n",
      "|   124|                 0|                       29|        578.9942528735631| 2.142857142857143|                 60|                  3|                  63|0.001450777202072539| 0.01533678756476684|  0.0244559585492228| 0.00849740932642487|0.001243523316062176|0.004766839378238342|0.036476683937823835|  0.0122279792746114|0.8453886010362694|8.290155440414508E-4|0.001243523316062176|0.004145077720207254|                 0.0|                 0.0| 0.00849740932642487| 0.03544041450777202|                 0.0| 4825|      4079|               3392|                 2232|                 0.0|                1.0|  1|  0|    0|   0|     0|           1|               0|\n",
      "|    51|                 1|                       10|        872.3566666666668|1.6666666666666667|                 16|                 47|                  63|8.123476848090983E-4|0.011372867587327376|0.021121039805036556| 0.00934199837530463|4.061738424045491...| 0.00487408610885459|0.030463038180341188| 0.00974817221770918|0.8574329813160032|                 0.0|4.061738424045491...| 0.00487408610885459|                 0.0|                 0.0|0.008529650690495532| 0.04061738424045491|                 0.0| 2462|      2111|               1868|                 1385|                 0.0|                1.0|  0|  1|    0|   0|     0|           0|               1|\n",
      "|     7|                 0|                        7|        87.64047619047619|               8.5|                 51|                 10|                  61|                 0.0|0.004975124378109453|0.024875621890547265|                 0.0|0.004975124378109453|0.004975124378109453| 0.04975124378109453|0.014925373134328358| 0.746268656716418| 0.07960199004975124|0.004975124378109453|0.014925373134328358|                 0.0|                 0.0|0.004975124378109453| 0.03482587064676617|0.009950248756218905|  201|       150|                148|                  142|                 1.0|                0.0|  0|  1|    0|   0|     0|           0|               1|\n",
      "|    15|                 0|                       15|        528.2833333333333| 3.857142857142857|                 55|                  8|                  63| 8.77963125548727E-4|0.013608428446005268|0.025899912203687446|0.012291483757682178| 8.77963125548727E-4|0.003511852502194908|0.040825285338015806|0.011852502194907815|0.8402107111501317|4.389815627743635E-4| 8.77963125548727E-4|0.007023705004389816|                 0.0|                 0.0|0.006145741878841089| 0.03555750658472344|                 0.0| 2278|      1914|               1719|                 1302|                 0.0|                1.0|  0|  1|    0|   0|     0|           0|               1|\n",
      "|    54|                 1|                       37|       322.28963963963963|1.1666666666666667|                 42|                 21|                  63|0.001455604075691412| 0.00960698689956332| 0.02096069868995633|0.011353711790393014|2.911208151382824E-4|0.004949053857350801| 0.03755458515283843|0.010480349344978166|0.8270742358078602|0.013682678311499273|8.733624454148472E-4|0.004949053857350801|2.911208151382824E-4|2.911208151382824E-4|0.008442503639010189| 0.04745269286754003|2.911208151382824E-4| 3435|      2841|               2445|                 1744| 0.16816991562409078| 0.8318300843759092|  1|  0|    0|   0|     0|           0|               1|\n",
      "|   155|                 0|                        6|        548.5722222222222|               5.0|                 26|                  5|                  31|0.001996007984031936|0.010978043912175649|0.023952095808383235|0.011976047904191617|0.002994011976047...|0.008982035928143712|0.029940119760479042|0.013972055888223553|0.8183632734530938|0.007984031936127744|                 0.0| 0.00499001996007984|                 0.0| 9.98003992015968E-4|0.002994011976047...| 0.05788423153692615|0.001996007984031936| 1002|       820|                762|                  643|  0.1437125748502994| 0.8562874251497006|  1|  0|    0|   0|     0|           0|               1|\n",
      "|100014|                 1|                        6|        184.8138888888889|               8.2|                 41|                 13|                  54|                 0.0| 0.01948051948051948|0.022727272727272728| 0.00974025974025974|                 0.0|0.006493506493506494|0.022727272727272728| 0.00974025974025974|0.8344155844155844|0.006493506493506494|                 0.0|0.003246753246753247|                 0.0|                 0.0| 0.00974025974025974| 0.05519480519480519|                 0.0|  308|       257|                248|                  233|                 0.0|                1.0|  0|  1|    0|   0|     0|           0|               1|\n",
      "|   132|                 0|                       16|        498.9510416666667|3.3333333333333335|                 50|                 12|                  62|0.001736111111111111|0.017795138888888888|0.016493055555555556|0.008246527777777778|0.001302083333333...|0.006944444444444444| 0.03602430555555555|0.014756944444444444|0.8368055555555556|8.680555555555555E-4|0.001736111111111111|0.007378472222222222|                 0.0|4.340277777777777...|0.007378472222222222|0.041666666666666664|4.340277777777777...| 2304|      1928|               1734|                 1299|0.014756944444444444| 0.9852430555555556|  1|  0|    0|   0|     0|           1|               0|\n",
      "|   154|                 0|                        3|       110.68333333333332|              12.5|                 25|                  6|                  31|                 0.0|0.025423728813559324| 0.00847457627118644|                 0.0|                 0.0| 0.00847457627118644| 0.05084745762711865| 0.01694915254237288| 0.711864406779661|  0.0847457627118644|                 0.0|                 0.0|                 0.0|                 0.0|                 0.0| 0.09322033898305085|                 0.0|  118|        84|                 83|                   78|                 1.0|                0.0|  1|  0|    0|   0|     0|           0|               1|\n",
      "|   101|                 1|                       10|                   817.58|1.6666666666666667|                 15|                 48|                  63|9.315323707498836E-4| 0.01350721937587331| 0.02841173730787145|0.010246856078248719|0.001397298556124...|0.005589194224499...|0.034466697717745694|0.011178388448998603|0.8369818351187703|0.003726129482999...|9.315323707498836E-4|0.004191895668374476|                 0.0|4.657661853749418E-4|0.007452258965999069|0.040055891942244994|4.657661853749418E-4| 2147|      1797|               1620|                 1241| 0.03536528617961843| 0.9646347138203816|  0|  1|    0|   0|     0|           0|               1|\n",
      "|    11|                 0|                       16|       161.37708333333333| 3.533333333333333|                 53|                  6|                  59|0.008254716981132075|0.007075471698113208| 0.02358490566037736| 0.00589622641509434|0.001179245283018...|0.003537735849056604| 0.04363207547169811| 0.01650943396226415|0.7629716981132075|0.045990566037735846|0.002358490566037...|0.007075471698113208|0.001179245283018...|0.002358490566037...| 0.01061320754716981| 0.04716981132075472| 0.01061320754716981|  848|       647|                616|                  534|  0.7299528301886793|0.27004716981132076|  1|  0|    0|   0|     0|           0|               1|\n",
      "|   138|                 0|                       15|        564.2266666666667|3.9285714285714284|                 56|                  3|                  59|0.003240178209801...| 0.01660591332523289| 0.02713649250708789| 0.00850546780072904|4.050222762251924E-4|0.005265289590927501| 0.02875658161198866|0.007290400972053463|0.8383961117861483| 0.00688537869582827|0.001620089104900...| 0.00688537869582827|                 0.0|4.050222762251924E-4|0.009720534629404616| 0.03847711624139328|4.050222762251924E-4| 2469|      2070|               1803|                 1332|  0.1061158363710004| 0.8938841636289996|  0|  1|    0|   1|     0|           0|               0|\n",
      "|300017|                 0|                       63|       233.32407407407408|0.9516129032258065|                 59|                  4|                  63|6.775067750677507E-4|0.014227642276422764|0.025519421860885277|0.005645889792231256|0.001129177958446251|0.006097560975609756|0.034101174345076785|0.009259259259259259|0.8202348690153568|0.002484191508581...|6.775067750677507E-4|0.005194218608852755|                 0.0|                 0.0|0.006323396567299007| 0.06842818428184282|                 0.0| 4428|      3632|               3047|                 2070|                 0.0|                1.0|  1|  0|    0|   0|     0|           1|               0|\n",
      "|100021|                 1|                        5|       215.22666666666663|             11.25|                 45|                  8|                  53|0.003154574132492...|0.022082018927444796|0.022082018927444796|                 0.0|0.006309148264984227|                 0.0|  0.0473186119873817|0.022082018927444796|0.7255520504731862|  0.0946372239747634|                 0.0|                 0.0|                 0.0|                 0.0|0.015772870662460567| 0.03470031545741325|0.006309148264984227|  317|       230|                227|                  207|                 1.0|                0.0|  0|  1|    0|   0|     0|           1|               0|\n",
      "|    29|                 1|                       34|       365.75686274509803|1.3333333333333333|                 44|                 19|                  63|5.554012774229381E-4|0.013051930019439044|0.024715356845320745|0.004998611496806442|                 0.0|0.007775617883921133| 0.03360177728408775|0.011385726187170231|0.8408775340183282|0.006109414051652319|0.001110802554845...|0.005276312135517912|                 0.0|2.777006387114690...|0.006109414051652319| 0.04276589836156623|0.001388503193557...| 3601|      3028|               2598|                 1804| 0.10824313072439634| 0.8917568692756037|  0|  1|    0|   0|     0|           1|               0|\n",
      "|    69|                 0|                        9|        526.6851851851852|             6.375|                 51|                 10|                  61|0.002235469448584...| 0.00894187779433681| 0.02459016393442623|0.006706408345752...|0.002980625931445...|0.005216095380029807| 0.03651266766020864|0.007451564828614009|0.8383010432190761|0.002235469448584...|7.451564828614009E-4|0.002235469448584...|                 0.0|7.451564828614009E-4|0.006706408345752...| 0.05365126676602087|7.451564828614009E-4| 1342|      1125|               1043|                  865|0.029061102831594635| 0.9709388971684053|  1|  0|    0|   0|     0|           0|               1|\n",
      "|   112|                 0|                       10|        84.45166666666667| 6.333333333333333|                 57|                  3|                  60|0.003424657534246575|0.023972602739726026|0.023972602739726026|                 0.0|                 0.0|0.003424657534246575|  0.0547945205479452|0.010273972602739725|0.7363013698630136| 0.07191780821917808|0.010273972602739725|  0.0136986301369863|                 0.0|                 0.0|0.010273972602739725|0.030821917808219176| 0.00684931506849315|  292|       215|                211|                  195|                 1.0|                0.0|  0|  1|    0|   0|     0|           0|               1|\n",
      "+------+------------------+-------------------------+-------------------------+------------------+-------------------+-------------------+--------------------+--------------------+--------------------+--------------------+--------------------+--------------------+--------------------+--------------------+--------------------+------------------+--------------------+--------------------+--------------------+--------------------+--------------------+--------------------+--------------------+--------------------+-----+----------+-------------------+---------------------+--------------------+-------------------+---+---+-----+----+------+------------+----------------+\n",
      "only showing top 20 rows\n",
      "\n"
     ]
    }
   ],
   "source": [
    "# device feature\n",
    "user_gender=df.select(\"userId\",'user_device').dropDuplicates().groupBy('userId').pivot('user_device').count()\n",
    "user_gender=user_gender.na.fill(0)\n",
    "\n",
    "user=user.join(user_gender, ['userId'])\n",
    "user.show()"
   ]
  },
  {
   "cell_type": "code",
   "execution_count": 24,
   "metadata": {},
   "outputs": [],
   "source": [
    "user.write.save('final_data.csv', format=\"csv\", header=True)"
   ]
  },
  {
   "cell_type": "markdown",
   "metadata": {},
   "source": [
    "# Modeling\n",
    "Split the full dataset into train, test, and validation sets. Test out several of the machine learning methods you learned. Evaluate the accuracy of the various models, tuning parameters as necessary. Determine your winning model based on test accuracy and report results on the validation set. Since the churned users are a fairly small subset, I suggest using F1 score as the metric to optimize."
   ]
  },
  {
   "cell_type": "markdown",
   "metadata": {},
   "source": [
    "### Model I - Logistic Regression"
   ]
  },
  {
   "cell_type": "code",
   "execution_count": 25,
   "metadata": {},
   "outputs": [],
   "source": [
    "assembler = VectorAssembler(inputCols=user.columns[2:], outputCol=\"NumFeatures\")\n",
    "data = assembler.transform(user)"
   ]
  },
  {
   "cell_type": "code",
   "execution_count": 26,
   "metadata": {},
   "outputs": [],
   "source": [
    "scaler = StandardScaler(inputCol=\"NumFeatures\", outputCol=\"ScaledNumFeatures\", withStd=True)\n",
    "scalerModel = scaler.fit(data)\n",
    "data = scalerModel.transform(data)"
   ]
  },
  {
   "cell_type": "code",
   "execution_count": 27,
   "metadata": {},
   "outputs": [],
   "source": [
    "data = data.select(data['sum(whether_churn)'].alias(\"label\"), data.ScaledNumFeatures.alias(\"features\"))\n"
   ]
  },
  {
   "cell_type": "markdown",
   "metadata": {},
   "source": [
    "### Train Test Split\n",
    "As a first step break  data set into 80% of training data and set aside 20%. Set random seed to `16`.\n"
   ]
  },
  {
   "cell_type": "code",
   "execution_count": 28,
   "metadata": {},
   "outputs": [],
   "source": [
    "train, test = data.randomSplit([0.8, 0.2], seed=16)\n",
    "train = train.cache()"
   ]
  },
  {
   "cell_type": "code",
   "execution_count": 29,
   "metadata": {},
   "outputs": [],
   "source": [
    "# first, let's try a single model logistic regression and use the default setting.\n",
    "lr =  LogisticRegression()\n",
    "cvModel_lr = lr.fit(train)"
   ]
  },
  {
   "cell_type": "code",
   "execution_count": 30,
   "metadata": {},
   "outputs": [
    {
     "name": "stdout",
     "output_type": "stream",
     "text": [
      "+-----+---+---+\n",
      "|label|0.0|1.0|\n",
      "+-----+---+---+\n",
      "|    0| 32|  3|\n",
      "|    1|  1|  8|\n",
      "+-----+---+---+\n",
      "\n"
     ]
    }
   ],
   "source": [
    "# plot the confumation matrix on test dataset\n",
    "results= cvModel_lr.transform(test)\n",
    "results.groupBy('label').pivot('prediction').count().show()"
   ]
  },
  {
   "cell_type": "markdown",
   "metadata": {},
   "source": [
    "From the confusion matrix,we can observe that the mdoel performs pretty well on test dataset. For Churn customer group, the recall rate is 88.9%, the precision rate is 72%."
   ]
  },
  {
   "cell_type": "markdown",
   "metadata": {},
   "source": [
    "### Model II - Decision Tree"
   ]
  },
  {
   "cell_type": "code",
   "execution_count": 4,
   "metadata": {},
   "outputs": [],
   "source": [
    "df_final = spark.read.csv('final_data.csv', inferSchema =True,header=True)"
   ]
  },
  {
   "cell_type": "code",
   "execution_count": 5,
   "metadata": {},
   "outputs": [],
   "source": [
    "assembler = VectorAssembler(inputCols=df_final.columns[2:], outputCol=\"NumFeatures\")\n",
    "data = assembler.transform(df_final)\n",
    "data = data.select(data['sum(whether_churn)'].alias(\"label\"), data.NumFeatures.alias(\"features\"))\n"
   ]
  },
  {
   "cell_type": "code",
   "execution_count": 9,
   "metadata": {},
   "outputs": [],
   "source": [
    "# secondly try decision tree.\n",
    "from pyspark.ml.classification import DecisionTreeClassifier\n",
    "from pyspark.ml.feature import StringIndexer, VectorIndexer\n",
    "from pyspark.ml.evaluation import MulticlassClassificationEvaluator\n",
    "\n",
    "\n",
    "# Index labels, adding metadata to the label column.\n",
    "# Fit on whole dataset to include all labels in index.\n",
    "labelIndexer = StringIndexer(inputCol=\"label\", outputCol=\"indexedLabel\").fit(data)\n",
    "# Automatically identify categorical features, and index them.\n",
    "# We specify maxCategories so features with > 4 distinct values are treated as continuous.\n",
    "featureIndexer =\\\n",
    "    VectorIndexer(inputCol=\"features\", outputCol=\"indexedFeatures\", maxCategories=2).fit(data)\n"
   ]
  },
  {
   "cell_type": "code",
   "execution_count": 29,
   "metadata": {},
   "outputs": [],
   "source": [
    "# Split the data into training and test sets (30% held out for testing)\n",
    "(trainingData, testData) = data.randomSplit([0.8, 0.2],seed=16)\n",
    "\n",
    "# Train a DecisionTree model.\n",
    "dt = DecisionTreeClassifier(labelCol=\"indexedLabel\", featuresCol=\"indexedFeatures\")\n",
    "\n",
    "# Chain indexers and tree in a Pipeline\n",
    "pipeline = Pipeline(stages=[labelIndexer, featureIndexer, dt])\n",
    "\n",
    "# Train model.  This also runs the indexers.\n",
    "model = pipeline.fit(trainingData)\n",
    "\n",
    "# Make predictions.\n",
    "predictions = model.transform(testData)\n"
   ]
  },
  {
   "cell_type": "code",
   "execution_count": 31,
   "metadata": {},
   "outputs": [
    {
     "name": "stdout",
     "output_type": "stream",
     "text": [
      "+-----+---+---+\n",
      "|label|0.0|1.0|\n",
      "+-----+---+---+\n",
      "|    1|  2|  8|\n",
      "|    0| 28|  1|\n",
      "+-----+---+---+\n",
      "\n"
     ]
    }
   ],
   "source": [
    "# plot the confumation matrix on test dataset\n",
    "predictions.groupBy('label').pivot('prediction').count().show()"
   ]
  },
  {
   "cell_type": "markdown",
   "metadata": {},
   "source": [
    "From the confusion matrix,we can observe that for Churn customer group, the recall rate is 80%, the precision rate is 89%."
   ]
  },
  {
   "cell_type": "markdown",
   "metadata": {},
   "source": [
    "### MODEL III RANDOM FOREST"
   ]
  },
  {
   "cell_type": "code",
   "execution_count": 32,
   "metadata": {},
   "outputs": [],
   "source": [
    "from pyspark.ml import Pipeline\n",
    "from pyspark.ml.classification import RandomForestClassifier\n",
    "from pyspark.ml.feature import IndexToString, StringIndexer, VectorIndexer\n",
    "from pyspark.ml.evaluation import MulticlassClassificationEvaluator\n",
    "\n",
    "# Train a RandomForest model.\n",
    "rf = RandomForestClassifier(labelCol=\"indexedLabel\", featuresCol=\"indexedFeatures\", numTrees=10)\n",
    "\n",
    "# Convert indexed labels back to original labels.\n",
    "labelConverter = IndexToString(inputCol=\"prediction\", outputCol=\"predictedLabel\",\n",
    "                               labels=labelIndexer.labels)\n",
    "\n",
    "# Chain indexers and forest in a Pipeline\n",
    "pipeline = Pipeline(stages=[labelIndexer, featureIndexer, rf, labelConverter])\n",
    "\n",
    "# Train model.  This also runs the indexers.\n",
    "model = pipeline.fit(trainingData)\n",
    "\n",
    "# Make predictions.\n",
    "predictions = model.transform(testData)\n",
    "\n"
   ]
  },
  {
   "cell_type": "code",
   "execution_count": 33,
   "metadata": {},
   "outputs": [
    {
     "name": "stdout",
     "output_type": "stream",
     "text": [
      "+-----+---+----+\n",
      "|label|0.0| 1.0|\n",
      "+-----+---+----+\n",
      "|    1|  4|   6|\n",
      "|    0| 29|null|\n",
      "+-----+---+----+\n",
      "\n"
     ]
    }
   ],
   "source": [
    "predictions.groupBy('label').pivot('prediction').count().show()"
   ]
  },
  {
   "cell_type": "code",
   "execution_count": 10,
   "metadata": {},
   "outputs": [
    {
     "data": {
      "text/plain": [
       "[0.9239684118890683,\n",
       " 0.9226091109452941,\n",
       " 0.9226091109452941,\n",
       " 0.9242875056999544,\n",
       " 0.9243850382530273,\n",
       " 0.9243850382530273,\n",
       " 0.9166476207584279,\n",
       " 0.9223919484401699,\n",
       " 0.9223919484401699]"
      ]
     },
     "execution_count": 10,
     "metadata": {},
     "output_type": "execute_result"
    }
   ],
   "source": [
    "# tune in parameter\n",
    "from pyspark.ml import Pipeline\n",
    "from pyspark.ml.classification import RandomForestClassifier\n",
    "from pyspark.ml.feature import IndexToString, StringIndexer, VectorIndexer\n",
    "from pyspark.ml.evaluation import BinaryClassificationEvaluator\n",
    "\n",
    "(trainingData, testData) = data.randomSplit([0.8, 0.2],seed=16)\n",
    "\n",
    "rf2 = RandomForestClassifier(labelCol=\"label\", featuresCol=\"features\")\n",
    "paramGrid = ParamGridBuilder() \\\n",
    "    .addGrid(rf2.numTrees,[20,30,50]) \\\n",
    "    .addGrid(rf2.maxDepth,[5,10,20]) \\\n",
    "    .build()\n",
    "crossval_rf = CrossValidator(estimator=rf2,\n",
    "                          estimatorParamMaps=paramGrid,\n",
    "                          evaluator=BinaryClassificationEvaluator())\n",
    "cvModel_rf = crossval_rf.fit(trainingData)\n",
    "cvModel_rf.avgMetrics"
   ]
  },
  {
   "cell_type": "code",
   "execution_count": 11,
   "metadata": {},
   "outputs": [
    {
     "name": "stdout",
     "output_type": "stream",
     "text": [
      "+-----+---+----+\n",
      "|label|0.0| 1.0|\n",
      "+-----+---+----+\n",
      "|    1|  4|   6|\n",
      "|    0| 29|null|\n",
      "+-----+---+----+\n",
      "\n"
     ]
    }
   ],
   "source": [
    "# used the tuned models to replot the confusion matrix\n",
    "results = cvModel_rf.transform(testData)\n",
    "results.groupBy('label').pivot('prediction').count().show()"
   ]
  },
  {
   "cell_type": "markdown",
   "metadata": {},
   "source": [
    "From the confusion matrix,we can observe that for Churn customer group, the recall rate is 60%, the precision rate is 100%."
   ]
  },
  {
   "cell_type": "markdown",
   "metadata": {},
   "source": [
    "# Final Steps\n",
    "Clean up your code, adding comments and renaming variables to make the code easier to read and maintain. Refer to the Spark Project Overview page and Data Scientist Capstone Project Rubric to make sure you are including all components of the capstone project and meet all expectations. Remember, this includes thorough documentation in a README file in a Github repository, as well as a web app or blog post."
   ]
  },
  {
   "cell_type": "code",
   "execution_count": null,
   "metadata": {},
   "outputs": [],
   "source": []
  }
 ],
 "metadata": {
  "kernelspec": {
   "display_name": "Python 3",
   "language": "python",
   "name": "python3"
  },
  "language_info": {
   "codemirror_mode": {
    "name": "ipython",
    "version": 3
   },
   "file_extension": ".py",
   "mimetype": "text/x-python",
   "name": "python",
   "nbconvert_exporter": "python",
   "pygments_lexer": "ipython3",
   "version": "3.6.3"
  }
 },
 "nbformat": 4,
 "nbformat_minor": 2
}
